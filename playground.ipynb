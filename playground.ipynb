{
 "cells": [
  {
   "cell_type": "code",
   "execution_count": null,
   "metadata": {},
   "outputs": [],
   "source": [
    "date_columns = train1_imputed.columns[1:]\n",
    "train1_imputed.columns = ['Page'] + pd.to_datetime(date_columns).strftime('%Y-%m-%d').tolist()\n",
    "time_series_features = pd.DataFrame(index=train1_imputed.index)\n",
    "\n",
    "for date in date_columns:\n",
    "    date_parsed = pd.to_datetime(date)\n",
    "    time_series_features[date + '_day_of_week'] = date_parsed.dayofweek\n",
    "    time_series_features[date + '_day_of_month'] = date_parsed.day\n",
    "    time_series_features[date + '_month'] = date_parsed.month\n",
    "    time_series_features[date + '_year'] = date_parsed.year\n",
    "\n",
    "ts_features = pd.concat([train1_imputed, time_series_features], axis=1)\n",
    "\n",
    "ts_features.head()"
   ]
  }
 ],
 "metadata": {
  "language_info": {
   "name": "python"
  }
 },
 "nbformat": 4,
 "nbformat_minor": 2
}
